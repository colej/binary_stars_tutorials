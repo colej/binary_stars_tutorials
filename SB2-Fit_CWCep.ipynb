{
 "cells": [
  {
   "cell_type": "code",
   "execution_count": 1,
   "id": "109f4b18",
   "metadata": {},
   "outputs": [
    {
     "ename": "ModuleNotFoundError",
     "evalue": "No module named 'seaborn'",
     "output_type": "error",
     "traceback": [
      "\u001b[0;31m---------------------------------------------------------------------------\u001b[0m",
      "\u001b[0;31mModuleNotFoundError\u001b[0m                       Traceback (most recent call last)",
      "Cell \u001b[0;32mIn[1], line 9\u001b[0m\n\u001b[1;32m      7\u001b[0m \u001b[38;5;28;01mfrom\u001b[39;00m \u001b[38;5;21;01mastropy\u001b[39;00m\u001b[38;5;21;01m.\u001b[39;00m\u001b[38;5;21;01mtimeseries\u001b[39;00m \u001b[38;5;28;01mimport\u001b[39;00m LombScargle\n\u001b[1;32m      8\u001b[0m \u001b[38;5;28;01mfrom\u001b[39;00m \u001b[38;5;21;01muncertainties\u001b[39;00m \u001b[38;5;28;01mimport\u001b[39;00m ufloat\n\u001b[0;32m----> 9\u001b[0m \u001b[38;5;28;01mimport\u001b[39;00m \u001b[38;5;21;01mseaborn\u001b[39;00m \u001b[38;5;28;01mas\u001b[39;00m \u001b[38;5;21;01msns\u001b[39;00m\n",
      "\u001b[0;31mModuleNotFoundError\u001b[0m: No module named 'seaborn'"
     ]
    }
   ],
   "source": [
    "import numpy as np\n",
    "import pandas as pd\n",
    "import matplotlib.pyplot as plt\n",
    "from scipy.optimize import curve_fit\n",
    "from astropy.constants import G, M_sun\n",
    "from astropy.modeling import models, fitting\n",
    "from astropy.timeseries import LombScargle\n",
    "from uncertainties import ufloat\n",
    "import seaborn as sns"
   ]
  },
  {
   "cell_type": "code",
   "execution_count": null,
   "id": "7b29d4bb",
   "metadata": {},
   "outputs": [],
   "source": []
  },
  {
   "cell_type": "code",
   "execution_count": 2,
   "id": "721c06a9",
   "metadata": {},
   "outputs": [],
   "source": [
    "def radial_velocity_model(t, K, e, omega_deg, P, T0, gamma):\n",
    "    omega = np.radians(omega_deg)\n",
    "    n = 2 * np.pi / P  # Mean motion\n",
    "    M = n * (t - T0)  # Mean anomaly\n",
    "\n",
    "    # Solve Kepler's Equation: M = E - e * sin(E)\n",
    "    E = M.copy()\n",
    "    for _ in range(100):  # Iterate to solve for E\n",
    "        E_prev = E\n",
    "        E = M + e * np.sin(E)\n",
    "        if np.max(np.abs(E - E_prev)) < 1e-10:\n",
    "            break\n",
    "\n",
    "    # Compute true anomaly\n",
    "    nu = 2 * np.arctan2(np.sqrt(1 + e) * np.sin(E / 2),\n",
    "                        np.sqrt(1 - e) * np.cos(E / 2))\n",
    "\n",
    "    # Radial velocity\n",
    "    V = gamma + K * (np.cos(omega + nu) + e * np.cos(omega))\n",
    "    return V"
   ]
  },
  {
   "cell_type": "code",
   "execution_count": 4,
   "id": "a3424ceb",
   "metadata": {},
   "outputs": [],
   "source": [
    "# Define the fitting function\n",
    "def fit_func(t, K1, e, omega_deg, P, T0, gamma):\n",
    "    return radial_velocity_model(t, K1, e, omega_deg, P, T0, gamma)"
   ]
  },
  {
   "cell_type": "code",
   "execution_count": 3,
   "id": "c8e36545",
   "metadata": {},
   "outputs": [
    {
     "ename": "NameError",
     "evalue": "name 'data' is not defined",
     "output_type": "error",
     "traceback": [
      "\u001b[0;31m---------------------------------------------------------------------------\u001b[0m",
      "\u001b[0;31mNameError\u001b[0m                                 Traceback (most recent call last)",
      "Cell \u001b[0;32mIn[3], line 7\u001b[0m\n\u001b[1;32m      1\u001b[0m \u001b[38;5;66;03m# Initial parameter guesses\u001b[39;00m\n\u001b[1;32m      2\u001b[0m initial_params \u001b[38;5;241m=\u001b[39m {\n\u001b[1;32m      3\u001b[0m     \u001b[38;5;124m'\u001b[39m\u001b[38;5;124mK1\u001b[39m\u001b[38;5;124m'\u001b[39m: \u001b[38;5;241m200\u001b[39m,      \u001b[38;5;66;03m# Semi-amplitude for star 1 (km/s)\u001b[39;00m\n\u001b[1;32m      4\u001b[0m     \u001b[38;5;124m'\u001b[39m\u001b[38;5;124me\u001b[39m\u001b[38;5;124m'\u001b[39m: \u001b[38;5;241m0.0\u001b[39m,       \u001b[38;5;66;03m# Eccentricity\u001b[39;00m\n\u001b[1;32m      5\u001b[0m     \u001b[38;5;124m'\u001b[39m\u001b[38;5;124momega_deg\u001b[39m\u001b[38;5;124m'\u001b[39m: \u001b[38;5;241m0\u001b[39m, \u001b[38;5;66;03m# Argument of periapsis (degrees)\u001b[39;00m\n\u001b[1;32m      6\u001b[0m     \u001b[38;5;124m'\u001b[39m\u001b[38;5;124mP\u001b[39m\u001b[38;5;124m'\u001b[39m: \u001b[38;5;241m2.7\u001b[39m,       \u001b[38;5;66;03m# Orbital period (days)\u001b[39;00m\n\u001b[0;32m----> 7\u001b[0m     \u001b[38;5;124m'\u001b[39m\u001b[38;5;124mT0\u001b[39m\u001b[38;5;124m'\u001b[39m: \u001b[43mdata\u001b[49m[\u001b[38;5;124m'\u001b[39m\u001b[38;5;124mTime\u001b[39m\u001b[38;5;124m'\u001b[39m]\u001b[38;5;241m.\u001b[39mmin(),  \u001b[38;5;66;03m# Time of periastron passage\u001b[39;00m\n\u001b[1;32m      8\u001b[0m     \u001b[38;5;124m'\u001b[39m\u001b[38;5;124mgamma\u001b[39m\u001b[38;5;124m'\u001b[39m: \u001b[38;5;241m0\u001b[39m      \u001b[38;5;66;03m# Systemic velocity (km/s)\u001b[39;00m\n\u001b[1;32m      9\u001b[0m }\n",
      "\u001b[0;31mNameError\u001b[0m: name 'data' is not defined"
     ]
    }
   ],
   "source": [
    "# Initial parameter guesses\n",
    "initial_params = {\n",
    "    'K1': 200,      # Semi-amplitude for star 1 (km/s)\n",
    "    'e': 0.0,       # Eccentricity\n",
    "    'omega_deg': 0, # Argument of periapsis (degrees)\n",
    "    'P': 2.7,       # Orbital period (days)\n",
    "    'T0': data['Time'].min(),  # Time of periastron passage\n",
    "    'gamma': 0      # Systemic velocity (km/s)\n",
    "}"
   ]
  },
  {
   "cell_type": "code",
   "execution_count": null,
   "id": "0b4b1dc6",
   "metadata": {},
   "outputs": [],
   "source": [
    "# Fit the model\n",
    "popt, pcov = curve_fit(\n",
    "    fit_func,\n",
    "    t,\n",
    "    RV1,\n",
    "    sigma=RV1_err,\n",
    "    absolute_sigma=True,\n",
    "    p0=list(initial_params.values()),\n",
    "    bounds=(\n",
    "        [0, 0, 0, 0, t.min(), -np.inf],\n",
    "        [np.inf, 1, 360, np.inf, t.max(), np.inf]\n",
    "    )\n",
    ")"
   ]
  }
 ],
 "metadata": {
  "kernelspec": {
   "display_name": "Python 3 (ipykernel)",
   "language": "python",
   "name": "python3"
  },
  "language_info": {
   "codemirror_mode": {
    "name": "ipython",
    "version": 3
   },
   "file_extension": ".py",
   "mimetype": "text/x-python",
   "name": "python",
   "nbconvert_exporter": "python",
   "pygments_lexer": "ipython3",
   "version": "3.9.18"
  }
 },
 "nbformat": 4,
 "nbformat_minor": 5
}
