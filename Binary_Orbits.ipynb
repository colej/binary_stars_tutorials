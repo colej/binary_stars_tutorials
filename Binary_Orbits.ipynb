{
 "cells": [
  {
   "cell_type": "code",
   "execution_count": 1,
   "id": "9b841ce6",
   "metadata": {},
   "outputs": [],
   "source": [
    "# Import libraries\n",
    "import numpy as np\n",
    "import matplotlib.pyplot as plt\n",
    "from ipywidgets import interact, FloatSlider\n"
   ]
  },
  {
   "cell_type": "code",
   "execution_count": 5,
   "id": "d3f8a397",
   "metadata": {},
   "outputs": [],
   "source": [
    "# Function to compute orbital positions of both stars\n",
    "def keplerian_binary_orbit(a=1, e=0.5, i=0, omega=0, Omega=0, M1=1, M2=1):\n",
    "    # Convert angles from degrees to radians\n",
    "    i_rad = np.radians(i)\n",
    "    omega_rad = np.radians(omega)\n",
    "    Omega_rad = np.radians(Omega)\n",
    "\n",
    "    # Total mass and reduced mass\n",
    "    M_total = M1 + M2\n",
    "\n",
    "    # Semi-major axes for each star (relative to center of mass)\n",
    "    a1 = a * M2 / M_total\n",
    "    a2 = a * M1 / M_total\n",
    "\n",
    "    # Time array\n",
    "    t = np.linspace(0, 1, 1000)  # One orbital period (normalized)\n",
    "    # Mean motion\n",
    "    n = 2 * np.pi  # Since period P = 1\n",
    "    M = n * t  # Mean anomaly\n",
    "\n",
    "    # Solve Kepler's Equation for Eccentric Anomaly (E)\n",
    "    E = M.copy()\n",
    "    for _ in range(10):\n",
    "        E = M + e * np.sin(E)\n",
    "\n",
    "    # True Anomaly (ν)\n",
    "    nu = 2 * np.arctan2(np.sqrt(1 + e) * np.sin(E / 2),\n",
    "                        np.sqrt(1 - e) * np.cos(E / 2))\n",
    "\n",
    "    # Distance (r1 and r2)\n",
    "    r1 = a1 * (1 - e * np.cos(E))\n",
    "    r2 = a2 * (1 - e * np.cos(E))\n",
    "\n",
    "    # Positions in orbital plane for star 1\n",
    "    x1_orb = r1 * np.cos(nu)\n",
    "    y1_orb = r1 * np.sin(nu)\n",
    "\n",
    "    # Positions in orbital plane for star 2 (opposite direction)\n",
    "    x2_orb = - (r2 * np.cos(nu))\n",
    "    y2_orb = - (r2 * np.sin(nu))\n",
    "\n",
    "    # Rotate to sky plane\n",
    "    X1 = x1_orb * np.cos(Omega_rad) - y1_orb * np.sin(Omega_rad)\n",
    "    Y1 = (x1_orb * np.sin(Omega_rad) + y1_orb * np.cos(Omega_rad)) * np.cos(i_rad)\n",
    "\n",
    "    X2 = x2_orb * np.cos(Omega_rad) - y2_orb * np.sin(Omega_rad)\n",
    "    Y2 = (x2_orb * np.sin(Omega_rad) + y2_orb * np.cos(Omega_rad)) * np.cos(i_rad)\n",
    "\n",
    "    return X1, Y1, X2, Y2"
   ]
  },
  {
   "cell_type": "code",
   "execution_count": 6,
   "id": "31419abd",
   "metadata": {},
   "outputs": [],
   "source": [
    "def plot_binary_orbit(a=1, e=0.5, i=0, omega=0, Omega=0, M1=1, M2=1):\n",
    "    X1, Y1, X2, Y2 = keplerian_binary_orbit(a, e, i, omega, Omega, M1, M2)\n",
    "    fig, ax = plt.subplots(figsize=(8, 8))\n",
    "\n",
    "    # Plot the orbits\n",
    "    ax.plot(X1, Y1, label='Star 1 Orbit')\n",
    "    ax.plot(X2, Y2, label='Star 2 Orbit')\n",
    "\n",
    "    # Plot the stars as disks at several positions\n",
    "    idx = np.linspace(0, len(X1)-1, 20).astype(int)  # 20 positions along orbit\n",
    "    for j in idx:\n",
    "        ax.add_artist(plt.Circle((X1[j], Y1[j]), 0.02, color='blue', alpha=0.7))\n",
    "        ax.add_artist(plt.Circle((X2[j], Y2[j]), 0.02, color='red', alpha=0.7))\n",
    "\n",
    "    # Plot the center of mass\n",
    "    ax.scatter(0, 0, color='yellow', label='Center of Mass', s=100, marker='*')\n",
    "\n",
    "    ax.set_xlabel('X Position (AU)')\n",
    "    ax.set_ylabel('Y Position (AU)')\n",
    "    ax.set_title('Projected 2D Orbits of Binary Stars')\n",
    "    ax.legend()\n",
    "    ax.axis('equal')\n",
    "    plt.grid(True)\n",
    "    plt.show()\n"
   ]
  },
  {
   "cell_type": "code",
   "execution_count": 7,
   "id": "135b6311",
   "metadata": {},
   "outputs": [
    {
     "data": {
      "application/vnd.jupyter.widget-view+json": {
       "model_id": "f91e0c595f0c42d59642e57f6a1dc544",
       "version_major": 2,
       "version_minor": 0
      },
      "text/plain": [
       "interactive(children=(FloatSlider(value=1.0, description='a (AU)', max=5.0, min=0.1), FloatSlider(value=0.5, d…"
      ]
     },
     "metadata": {},
     "output_type": "display_data"
    },
    {
     "data": {
      "text/plain": [
       "<function __main__.plot_binary_orbit(a=1, e=0.5, i=0, omega=0, Omega=0, M1=1, M2=1)>"
      ]
     },
     "execution_count": 7,
     "metadata": {},
     "output_type": "execute_result"
    }
   ],
   "source": [
    "\n",
    "interact(plot_binary_orbit,\n",
    "         a=FloatSlider(min=0.1, max=5, step=0.1, value=1, description='a (AU)'),\n",
    "         e=FloatSlider(min=0, max=0.9, step=0.05, value=0.5, description='e'),\n",
    "         i=FloatSlider(min=0, max=180, step=5, value=0, description='i (deg)'),\n",
    "         omega=FloatSlider(min=0, max=360, step=5, value=0, description='ω (deg)'),\n",
    "         Omega=FloatSlider(min=0, max=360, step=5, value=0, description='Ω (deg)'),\n",
    "         M1=FloatSlider(min=0.1, max=5, step=0.1, value=1, description='M1 (M☉)'),\n",
    "         M2=FloatSlider(min=0.1, max=5, step=0.1, value=1, description='M2 (M☉)'))"
   ]
  },
  {
   "cell_type": "code",
   "execution_count": 2,
   "id": "a41882a6",
   "metadata": {},
   "outputs": [],
   "source": []
  },
  {
   "cell_type": "code",
   "execution_count": null,
   "id": "5bd14383",
   "metadata": {},
   "outputs": [],
   "source": []
  },
  {
   "cell_type": "code",
   "execution_count": null,
   "id": "01697fd8",
   "metadata": {},
   "outputs": [],
   "source": []
  },
  {
   "cell_type": "code",
   "execution_count": null,
   "id": "51ba7d6b",
   "metadata": {},
   "outputs": [],
   "source": []
  }
 ],
 "metadata": {
  "kernelspec": {
   "display_name": "Python 3 (ipykernel)",
   "language": "python",
   "name": "python3"
  },
  "language_info": {
   "codemirror_mode": {
    "name": "ipython",
    "version": 3
   },
   "file_extension": ".py",
   "mimetype": "text/x-python",
   "name": "python",
   "nbconvert_exporter": "python",
   "pygments_lexer": "ipython3",
   "version": "3.9.18"
  }
 },
 "nbformat": 4,
 "nbformat_minor": 5
}
