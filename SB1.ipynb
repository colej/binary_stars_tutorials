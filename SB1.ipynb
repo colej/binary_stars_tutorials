{
 "cells": [
  {
   "cell_type": "code",
   "execution_count": 1,
   "id": "3edd3df4",
   "metadata": {},
   "outputs": [],
   "source": [
    "# Import libraries\n",
    "import numpy as np\n",
    "import matplotlib.pyplot as plt\n",
    "from ipywidgets import interact, FloatSlider\n"
   ]
  },
  {
   "cell_type": "code",
   "execution_count": 2,
   "id": "852efe37",
   "metadata": {},
   "outputs": [],
   "source": [
    "def radial_velocity(K, e, omega, P, phi):\n",
    "    # Convert to radians\n",
    "    omega_rad = np.radians(omega)\n",
    "    # Mean anomaly\n",
    "    M = 2 * np.pi * phi / P\n",
    "    # Eccentric anomaly (E) - approximate solution\n",
    "    E = M + e * np.sin(M)\n",
    "    # True anomaly (ν)\n",
    "    nu = 2 * np.arctan2(np.sqrt(1 + e) * np.sin(E / 2),\n",
    "                        np.sqrt(1 - e) * np.cos(E / 2))\n",
    "    # Radial velocity\n",
    "    rv = K * (np.cos(nu + omega_rad) + e * np.cos(omega_rad))\n",
    "    return rv"
   ]
  },
  {
   "cell_type": "code",
   "execution_count": 3,
   "id": "2d98dfcd",
   "metadata": {},
   "outputs": [],
   "source": [
    "# Function to plot radial velocity curve\n",
    "def plot_rv(K=30, e=0, omega=0, P=1):\n",
    "    phi = np.linspace(0, P, 1000)\n",
    "    rv = radial_velocity(K, e, omega, P, phi)\n",
    "    plt.figure(figsize=(10, 5))\n",
    "    plt.plot(phi, rv, label='Star A')\n",
    "    plt.xlabel('Orbital Phase')\n",
    "    plt.ylabel('Radial Velocity (km/s)')\n",
    "    plt.title('Radial Velocity Curve')\n",
    "    plt.legend()\n",
    "    plt.grid(True)\n",
    "    plt.show()\n"
   ]
  },
  {
   "cell_type": "code",
   "execution_count": 4,
   "id": "48cb8755",
   "metadata": {},
   "outputs": [
    {
     "data": {
      "application/vnd.jupyter.widget-view+json": {
       "model_id": "6e874bc054b74872b4469f367d32ddb5",
       "version_major": 2,
       "version_minor": 0
      },
      "text/plain": [
       "interactive(children=(FloatSlider(value=30.0, description='K (km/s)', min=10.0, step=5.0), FloatSlider(value=0…"
      ]
     },
     "metadata": {},
     "output_type": "display_data"
    },
    {
     "data": {
      "text/plain": [
       "<function __main__.plot_rv(K=30, e=0, omega=0, P=1)>"
      ]
     },
     "execution_count": 4,
     "metadata": {},
     "output_type": "execute_result"
    }
   ],
   "source": [
    "interact(plot_rv,\n",
    "         K=FloatSlider(min=10, max=100, step=5, value=30, description='K (km/s)'),\n",
    "         e=FloatSlider(min=0, max=0.9, step=0.05, value=0, description='Eccentricity'),\n",
    "         omega=FloatSlider(min=0, max=360, step=5, value=0, description='ω (deg)'),\n",
    "         P=FloatSlider(min=0.1, max=10, step=0.1, value=1, description='Period (years)'))"
   ]
  },
  {
   "cell_type": "code",
   "execution_count": null,
   "id": "20a0ee4e",
   "metadata": {},
   "outputs": [],
   "source": []
  }
 ],
 "metadata": {
  "kernelspec": {
   "display_name": "Python 3 (ipykernel)",
   "language": "python",
   "name": "python3"
  },
  "language_info": {
   "codemirror_mode": {
    "name": "ipython",
    "version": 3
   },
   "file_extension": ".py",
   "mimetype": "text/x-python",
   "name": "python",
   "nbconvert_exporter": "python",
   "pygments_lexer": "ipython3",
   "version": "3.9.18"
  }
 },
 "nbformat": 4,
 "nbformat_minor": 5
}
