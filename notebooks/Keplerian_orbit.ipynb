{
 "cells": [
  {
   "cell_type": "code",
   "execution_count": 1,
   "id": "a221aa24",
   "metadata": {},
   "outputs": [
    {
     "ename": "ImportError",
     "evalue": "cannot import name 'Axes3' from 'mpl_toolkits.mplot3d' (/afs/mpa/data/colej/software/miniconda3/envs/nominal/lib/python3.9/site-packages/mpl_toolkits/mplot3d/__init__.py)",
     "output_type": "error",
     "traceback": [
      "\u001b[0;31m---------------------------------------------------------------------------\u001b[0m",
      "\u001b[0;31mImportError\u001b[0m                               Traceback (most recent call last)",
      "Cell \u001b[0;32mIn[1], line 6\u001b[0m\n\u001b[1;32m      4\u001b[0m \u001b[38;5;28;01mfrom\u001b[39;00m \u001b[38;5;21;01mmatplotlib\u001b[39;00m \u001b[38;5;28;01mimport\u001b[39;00m animation\n\u001b[1;32m      5\u001b[0m \u001b[38;5;28;01mfrom\u001b[39;00m \u001b[38;5;21;01mipywidgets\u001b[39;00m \u001b[38;5;28;01mimport\u001b[39;00m interact, FloatSlider\n\u001b[0;32m----> 6\u001b[0m \u001b[38;5;28;01mfrom\u001b[39;00m \u001b[38;5;21;01mmpl_toolkits\u001b[39;00m\u001b[38;5;21;01m.\u001b[39;00m\u001b[38;5;21;01mmplot3d\u001b[39;00m \u001b[38;5;28;01mimport\u001b[39;00m Axes3\n",
      "\u001b[0;31mImportError\u001b[0m: cannot import name 'Axes3' from 'mpl_toolkits.mplot3d' (/afs/mpa/data/colej/software/miniconda3/envs/nominal/lib/python3.9/site-packages/mpl_toolkits/mplot3d/__init__.py)"
     ]
    }
   ],
   "source": [
    "# Import necessary libraries\n",
    "import numpy as np\n",
    "import matplotlib.pyplot as plt\n",
    "from matplotlib import animation\n",
    "from ipywidgets import interact, FloatSlider\n",
    "from mpl_toolkits.mplot3d import Axes3"
   ]
  },
  {
   "cell_type": "code",
   "execution_count": 2,
   "id": "c637da67",
   "metadata": {},
   "outputs": [],
   "source": [
    "# Define constants\n",
    "G = 6.67430e-11  # Gravitational constant\n",
    "M_sun = 1.98847e30  # Mass of the sun in kg"
   ]
  },
  {
   "cell_type": "code",
   "execution_count": 3,
   "id": "6093e970",
   "metadata": {},
   "outputs": [],
   "source": [
    "# Function to compute orbital positions\n",
    "def keplerian_orbit(a=1, e=0.5, i=0, omega=0, Omega=0, M_star=1):\n",
    "    # Convert angles from degrees to radians\n",
    "    i_rad = np.radians(i)\n",
    "    omega_rad = np.radians(omega)\n",
    "    Omega_rad = np.radians(Omega)\n",
    "\n",
    "    # Time array\n",
    "    t = np.linspace(0, 1, 1000)  # One orbital period\n",
    "    # Mean motion\n",
    "    n = np.sqrt(G * M_star * M_sun / (a * 1.496e11)**3)\n",
    "    M = n * t * 365.25 * 24 * 3600  # Mean anomaly\n",
    "\n",
    "    # Solve Kepler's Equation for Eccentric Anomaly (E)\n",
    "    E = M.copy()\n",
    "    for _ in range(10):\n",
    "        E = M + e * np.sin(E)\n",
    "\n",
    "    # True Anomaly (ν)\n",
    "    nu = 2 * np.arctan2(np.sqrt(1 + e) * np.sin(E / 2),\n",
    "                        np.sqrt(1 - e) * np.cos(E / 2))\n",
    "\n",
    "    # Distance (r)\n",
    "    r = a * (1 - e * np.cos(E))\n",
    "\n",
    "    # Positions in orbital plane\n",
    "    x_orb = r * np.cos(nu)\n",
    "    y_orb = r * np.sin(nu)\n",
    "\n",
    "    # Rotate to 3D space\n",
    "    x = x_orb * (np.cos(omega_rad) * np.cos(Omega_rad) - np.sin(omega_rad) * np.sin(Omega_rad) * np.cos(i_rad)) - \\\n",
    "        y_orb * (np.sin(omega_rad) * np.cos(Omega_rad) + np.cos(omega_rad) * np.sin(Omega_rad) * np.cos(i_rad))\n",
    "\n",
    "    y = x_orb * (np.cos(omega_rad) * np.sin(Omega_rad) + np.sin(omega_rad) * np.cos(Omega_rad) * np.cos(i_rad)) + \\\n",
    "        y_orb * (np.cos(omega_rad) * np.cos(Omega_rad) * np.cos(i_rad) - np.sin(omega_rad) * np.sin(Omega_rad))\n",
    "\n",
    "    z = x_orb * (np.sin(omega_rad) * np.sin(i_rad)) + y_orb * (np.cos(omega_rad) * np.sin(i_rad))\n",
    "\n",
    "    return x, y, z\n"
   ]
  },
  {
   "cell_type": "code",
   "execution_count": 4,
   "id": "546c77bd",
   "metadata": {},
   "outputs": [],
   "source": [
    "# Function to plot orbit\n",
    "def plot_orbit(a, e, i, omega, Omega):\n",
    "    x, y, z = keplerian_orbit(a, e, i, omega, Omega)\n",
    "    fig = plt.figure(figsize=(8, 6))\n",
    "    ax = fig.add_subplot(111, projection='3d')\n",
    "    ax.plot(x, y, z)\n",
    "    ax.scatter([0], [0], [0], color='yellow', label='Primary Star')\n",
    "    ax.set_xlabel('X [AU]')\n",
    "    ax.set_ylabel('Y [AU]')\n",
    "    ax.set_zlabel('Z [AU]')\n",
    "    ax.set_title('Keplerian Orbit')\n",
    "    plt.legend()\n",
    "    plt.show()\n"
   ]
  },
  {
   "cell_type": "code",
   "execution_count": 5,
   "id": "4f68c1f2",
   "metadata": {},
   "outputs": [
    {
     "data": {
      "application/vnd.jupyter.widget-view+json": {
       "model_id": "9f7aae2d022c4603a100e7d736b212a6",
       "version_major": 2,
       "version_minor": 0
      },
      "text/plain": [
       "interactive(children=(FloatSlider(value=1.0, description='Semi-major Axis (AU)', max=5.0, min=0.1), FloatSlide…"
      ]
     },
     "metadata": {},
     "output_type": "display_data"
    },
    {
     "data": {
      "text/plain": [
       "<function __main__.plot_orbit(a, e, i, omega, Omega)>"
      ]
     },
     "execution_count": 5,
     "metadata": {},
     "output_type": "execute_result"
    }
   ],
   "source": [
    "# Interactive widget\n",
    "interact(plot_orbit,\n",
    "         a=FloatSlider(min=0.1, max=5, step=0.1, value=1, description='Semi-major Axis (AU)'),\n",
    "         e=FloatSlider(min=0, max=0.9, step=0.05, value=0.5, description='Eccentricity'),\n",
    "         i=FloatSlider(min=0, max=180, step=5, value=0, description='Inclination (deg)'),\n",
    "         omega=FloatSlider(min=0, max=360, step=5, value=0, description='Argument of Periapsis (deg)'),\n",
    "         Omega=FloatSlider(min=0, max=360, step=5, value=0, description='Longitude of Ascending Node (deg)'))\n"
   ]
  },
  {
   "cell_type": "code",
   "execution_count": null,
   "id": "60c76f53",
   "metadata": {},
   "outputs": [],
   "source": []
  }
 ],
 "metadata": {
  "kernelspec": {
   "display_name": "Python 3 (ipykernel)",
   "language": "python",
   "name": "python3"
  },
  "language_info": {
   "codemirror_mode": {
    "name": "ipython",
    "version": 3
   },
   "file_extension": ".py",
   "mimetype": "text/x-python",
   "name": "python",
   "nbconvert_exporter": "python",
   "pygments_lexer": "ipython3",
   "version": "3.9.18"
  }
 },
 "nbformat": 4,
 "nbformat_minor": 5
}
