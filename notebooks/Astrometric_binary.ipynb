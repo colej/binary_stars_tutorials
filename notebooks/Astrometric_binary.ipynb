{
 "cells": [
  {
   "cell_type": "code",
   "execution_count": 1,
   "id": "9a21f75b",
   "metadata": {},
   "outputs": [],
   "source": [
    "import numpy as np\n",
    "import matplotlib.pyplot as plt\n",
    "from ipywidgets import interact, FloatSlider\n"
   ]
  },
  {
   "cell_type": "code",
   "execution_count": 2,
   "id": "5d9ac6c7",
   "metadata": {},
   "outputs": [],
   "source": [
    "def astrometric_orbit(a=1, e=0, i=90, omega=0, Omega=0, P=1):\n",
    "    # Convert angles to radians\n",
    "    i_rad = np.radians(i)\n",
    "    omega_rad = np.radians(omega)\n",
    "    Omega_rad = np.radians(Omega)\n",
    "    # Time array\n",
    "    t = np.linspace(0, P, 1000)\n",
    "    # Mean anomaly\n",
    "    M = 2 * np.pi * t / P\n",
    "    # Eccentric anomaly\n",
    "    E = M.copy()\n",
    "    for _ in range(10):\n",
    "        E = M + e * np.sin(E)\n",
    "    # True anomaly\n",
    "    nu = 2 * np.arctan2(np.sqrt(1 + e) * np.sin(E / 2),\n",
    "                        np.sqrt(1 - e) * np.cos(E / 2))\n",
    "    # Radius\n",
    "    r = a * (1 - e * np.cos(E))\n",
    "    # Positions in orbital plane\n",
    "    x_orb = r * np.cos(nu)\n",
    "    y_orb = r * np.sin(nu)\n",
    "    # Rotate to sky plane\n",
    "    X = x_orb * (np.cos(omega_rad) * np.cos(Omega_rad) - np.sin(omega_rad) * np.sin(Omega_rad) * np.cos(i_rad)) - \\\n",
    "        y_orb * (np.sin(omega_rad) * np.cos(Omega_rad) + np.cos(omega_rad) * np.sin(Omega_rad) * np.cos(i_rad))\n",
    "    Y = x_orb * (np.cos(omega_rad) * np.sin(Omega_rad) + np.sin(omega_rad) * np.cos(Omega_rad) * np.cos(i_rad)) - \\\n",
    "        y_orb * (np.sin(omega_rad) * np.sin(Omega_rad) - np.cos(omega_rad) * np.cos(Omega_rad) * np.cos(i_rad))\n",
    "    return X, Y"
   ]
  },
  {
   "cell_type": "code",
   "execution_count": 5,
   "id": "d67d6027",
   "metadata": {},
   "outputs": [],
   "source": [
    "# Function to plot astrometric orbit\n",
    "def plot_astrometry(a=1, e=0, i=90, omega=0, Omega=0, P=1):\n",
    "    X, Y = astrometric_orbit(a, e, i, omega, Omega, P)\n",
    "    plt.figure(figsize=(6, 6))\n",
    "    plt.plot(X, Y)\n",
    "    plt.scatter([0], [0], color='darkorange', label='Center of Mass')\n",
    "    plt.xlabel('Relative RA (mas)')\n",
    "    plt.ylabel('Relative Dec (mas)')\n",
    "    plt.title('Astrometric Orbit')\n",
    "    plt.legend()\n",
    "    plt.grid(True)\n",
    "    plt.gca().invert_xaxis()  # Invert x-axis to match sky coordinates\n",
    "    plt.show()"
   ]
  },
  {
   "cell_type": "code",
   "execution_count": 6,
   "id": "b74eb3bd",
   "metadata": {},
   "outputs": [
    {
     "data": {
      "application/vnd.jupyter.widget-view+json": {
       "model_id": "ccd7f35bb5df40eaa0309e2b4c958d2a",
       "version_major": 2,
       "version_minor": 0
      },
      "text/plain": [
       "interactive(children=(FloatSlider(value=1.0, description='Semi-major Axis (mas)', max=10.0, min=0.1), FloatSli…"
      ]
     },
     "metadata": {},
     "output_type": "display_data"
    },
    {
     "data": {
      "text/plain": [
       "<function __main__.plot_astrometry(a=1, e=0, i=90, omega=0, Omega=0, P=1)>"
      ]
     },
     "execution_count": 6,
     "metadata": {},
     "output_type": "execute_result"
    }
   ],
   "source": [
    "# Interactive widget\n",
    "interact(plot_astrometry,\n",
    "         a=FloatSlider(min=0.1, max=10, step=0.1, value=1, description='Semi-major Axis (mas)'),\n",
    "         e=FloatSlider(min=0, max=0.9, step=0.05, value=0, description='Eccentricity'),\n",
    "         i=FloatSlider(min=0, max=180, step=5, value=30, description='Inclination (deg)'),\n",
    "         omega=FloatSlider(min=0, max=360, step=5, value=0, description='ω (deg)'),\n",
    "         Omega=FloatSlider(min=0, max=360, step=5, value=0, description='Ω (deg)'),\n",
    "         P=FloatSlider(min=0.1, max=10, step=0.1, value=1, description='Period (years)'))\n"
   ]
  },
  {
   "cell_type": "code",
   "execution_count": null,
   "id": "321102d5",
   "metadata": {},
   "outputs": [],
   "source": []
  }
 ],
 "metadata": {
  "kernelspec": {
   "display_name": "Python 3 (ipykernel)",
   "language": "python",
   "name": "python3"
  },
  "language_info": {
   "codemirror_mode": {
    "name": "ipython",
    "version": 3
   },
   "file_extension": ".py",
   "mimetype": "text/x-python",
   "name": "python",
   "nbconvert_exporter": "python",
   "pygments_lexer": "ipython3",
   "version": "3.9.18"
  }
 },
 "nbformat": 4,
 "nbformat_minor": 5
}
